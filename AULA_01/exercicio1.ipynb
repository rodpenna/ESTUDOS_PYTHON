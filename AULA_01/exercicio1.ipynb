{
 "cells": [
  {
   "cell_type": "markdown",
   "metadata": {},
   "source": [
    "Teste de Objetos e Estrutura de Dados\n",
    "Teste seu conhecimento.\n",
    "** Responda as seguintes questões **\n",
    "\n",
    "Escreva uma breve descrição de todos os seguintes tipos de objetos e estruturas de dados sobre os quais aprendemos:"
   ]
  },
  {
   "cell_type": "code",
   "execution_count": null,
   "metadata": {},
   "outputs": [],
   "source": [
    "'''DADOS PUROS, DADOS LIMPOS E DE PRIMEIRA CLASSE'''\n",
    "numero = \"Inteiro e Fracionado - Integer(int) Float (float)  inteiro = 1 / float = 1.0\"\n",
    "string = \"Letras e frases - Caracter = a ; string = abacate // string = caracter + caracter + caracter\"\n",
    "\n",
    "\n",
    "'''ESTRUTURA DE DADOS, AGRUPAMENTO DE DADOS PUROS DE SEGUNDA CLASSE'''\n",
    "listas = \"Agrupamento de dados - [1,2,3,4,5,6,7,8,9] - ['casa', 'caracter', 'caracter''] / MUTAVEL, ORDENADA\"\n",
    "tuplas = \"Agrupamento de dados - (1,2,3,4,5,6,7,8,9) - ('casa', 'caracter', 'caracter') / IMUTAVEL, SEM ORDEM\"\n",
    "dicionario = \"Agrupamento de dados - {'KEY1'=1,'KEY2'=2,'KEY3'=3,'KEY4'=4} - {'KEY1'='casa', 'KEY2'='caracter', 'KEY3'='caracter'} / MUTAVEL, ORDENADA\""
   ]
  },
  {
   "cell_type": "markdown",
   "metadata": {},
   "source": [
    "Números\n",
    "Escreva uma equação que use multiplicação, divisão, expoente, adição e subtração igual a 100,25.\n",
    "\n",
    "Dica: isso é apenas para testar sua memória dos comandos aritméticos básicos, trabalhar para trás a partir de 100.25"
   ]
  },
  {
   "cell_type": "code",
   "execution_count": null,
   "metadata": {},
   "outputs": [],
   "source": [
    "# multiplicação = *\n",
    "# divisão = /\n",
    "# expoente = ** / ^\n",
    "# adição = +\n",
    "# subtração = -\n",
    "\n",
    "#ADIÇÃO\n",
    "ADIÇÃO = 100 + 0.25\n",
    "SUBTRAÇÃO = 101 - 0.75\n",
    "EXPOENTE = 10.012492197250394 ** 2\n",
    "DIVISÃO = 200.50 / 2\n",
    "MULTIPLICAÇÃO = 50.125 * 2\n",
    "\n",
    "print(\"ADIÇÃO \",ADIÇÃO)\n",
    "print(\"SUBTRAÇÃO \",SUBTRAÇÃO)\n",
    "print(\"EXPOENTE \",round (EXPOENTE,2) )\n",
    "print(\"DIVISÃO \",DIVISÃO)\n",
    "print(\"MULTIPLICAÇÃO \",MULTIPLICAÇÃO)\n"
   ]
  },
  {
   "cell_type": "markdown",
   "metadata": {},
   "source": [
    "Responda estas 3 perguntas sem digitar o código. Em seguida, digite o código para verificar sua resposta.\n",
    "\n",
    "Qual é o valor da expressão 4 * (6 + 5)           Qual é o valor da expressão 4 * 6 + 5?           Qual é o valor da expressão 4 + 6 * 5?"
   ]
  },
  {
   "cell_type": "code",
   "execution_count": 17,
   "metadata": {},
   "outputs": [
    {
     "name": "stdout",
     "output_type": "stream",
     "text": [
      "formula1 =  44\n",
      "formula2 =  29\n",
      "formula3 =  34\n"
     ]
    }
   ],
   "source": [
    "formula1 = 4 * (6 + 5)  \n",
    "formula2 =  4 * 6 + 5\n",
    "formula3 = 4 + 6 * 5\n",
    "\n",
    "print(\"formula1 = \", formula1)\n",
    "print(\"formula2 = \", formula2)\n",
    "print(\"formula3 = \", formula3)"
   ]
  },
  {
   "cell_type": "markdown",
   "metadata": {},
   "source": [
    "Strings\n",
    "Dada a string 'hello', dê um comando de índice que retorna 'e'. Use o código abaixo:"
   ]
  },
  {
   "cell_type": "code",
   "execution_count": 20,
   "metadata": {},
   "outputs": [
    {
     "name": "stdout",
     "output_type": "stream",
     "text": [
      "letra E  e\n"
     ]
    }
   ],
   "source": [
    "s = 'hello'\n",
    "\n",
    "print(\"letra E \", s[1])"
   ]
  },
  {
   "cell_type": "markdown",
   "metadata": {},
   "source": [
    "Inverta a string 'hello' usando indexação:"
   ]
  },
  {
   "cell_type": "code",
   "execution_count": 22,
   "metadata": {},
   "outputs": [
    {
     "name": "stdout",
     "output_type": "stream",
     "text": [
      "olleh\n"
     ]
    }
   ],
   "source": [
    "s ='hello'\n",
    "inverter = s[::-1]\n",
    "print (inverter)"
   ]
  },
  {
   "cell_type": "markdown",
   "metadata": {},
   "source": [
    "Dado o exemplo de linha, dê dois métodos para produzir a letra 'o' usando a indexação."
   ]
  },
  {
   "cell_type": "code",
   "execution_count": 32,
   "metadata": {},
   "outputs": [
    {
     "name": "stdout",
     "output_type": "stream",
     "text": [
      "o\n",
      "o\n"
     ]
    }
   ],
   "source": [
    "s ='hello'\n",
    "\n",
    "teste = s[4:]\n",
    "print(teste)\n",
    "\n",
    "teste2 = s[::-1][:1]\n",
    "print(teste2)"
   ]
  },
  {
   "cell_type": "markdown",
   "metadata": {},
   "source": [
    "Listas\n",
    "Crie esta lista [0,0,0] duas formas diferentes."
   ]
  },
  {
   "cell_type": "code",
   "execution_count": 34,
   "metadata": {},
   "outputs": [
    {
     "name": "stdout",
     "output_type": "stream",
     "text": [
      "[0, 0, 0]\n",
      "[3]\n"
     ]
    }
   ],
   "source": [
    "lista = [0,0,0]\n",
    "print(lista)\n",
    "\n",
    "\n",
    "lista2 = list([3])\n",
    "print(lista2)"
   ]
  },
  {
   "cell_type": "markdown",
   "metadata": {},
   "source": [
    "Altere o 'hello' da lista para 'goodbye'"
   ]
  },
  {
   "cell_type": "code",
   "execution_count": 43,
   "metadata": {},
   "outputs": [
    {
     "name": "stdout",
     "output_type": "stream",
     "text": [
      "[1, 2, [3, 4, 'goodbye']]\n"
     ]
    }
   ],
   "source": [
    "lista = [ 1 , 2 , [3 , 4 , 'hello' ] ]\n",
    "\n",
    "lista[2][2] = 'goodbye'\n",
    "\n",
    "print(lista)"
   ]
  },
  {
   "cell_type": "markdown",
   "metadata": {},
   "source": [
    "Ordene a lista: l = [5,3,4,6,1]"
   ]
  },
  {
   "cell_type": "code",
   "execution_count": 49,
   "metadata": {},
   "outputs": [
    {
     "name": "stdout",
     "output_type": "stream",
     "text": [
      "['a', 'b', 'g', 'z']\n"
     ]
    }
   ],
   "source": [
    "lista = [5,3,4,6,1]\n",
    "lista2 = ['a','z','g','b']\n",
    "\n",
    "print(sorted(lista2))"
   ]
  },
  {
   "cell_type": "markdown",
   "metadata": {},
   "source": [
    "Dicionários\n",
    "Usando chaves e indexação, pegue o 'hello' dos seguintes dicionários:"
   ]
  },
  {
   "cell_type": "code",
   "execution_count": 96,
   "metadata": {},
   "outputs": [
    {
     "name": "stdout",
     "output_type": "stream",
     "text": [
      "Valor carteira  10.5\n",
      "Valor fracionario  0.5\n"
     ]
    }
   ],
   "source": [
    "import pprint\n",
    "\n",
    "d1 = {'simple_key':'hello'}\n",
    "\n",
    "d2 = {\n",
    "    'k1':{\n",
    "        'k2':'hello'\n",
    "    }\n",
    "}\n",
    "\n",
    "d3 = {\n",
    "    'k1':[\n",
    "        {\n",
    "            'nest_key':\n",
    "                [\n",
    "                    'this is deep',\n",
    "                    [\n",
    "                        'hello'\n",
    "                    ]\n",
    "                ]\n",
    "        }\n",
    "    ]\n",
    "}\n",
    "\n",
    "d4 = {\n",
    "    'k1':\n",
    "    [\n",
    "        1,\n",
    "        2,\n",
    "        {\n",
    "        'k2':\n",
    "            [\n",
    "                'this is tricky',\n",
    "                {\n",
    "                    'tough':\n",
    "                        [\n",
    "                            1,\n",
    "                            2,\n",
    "                            ['hello']\n",
    "                        ]\n",
    "                    }\n",
    "            ]\n",
    "        }\n",
    "    ]\n",
    "}\n",
    "\n",
    "item1 = d1['simple_key']\n",
    "# print('item1 : ',item1)\n",
    "\n",
    "item2 = d2['k1']['k2']\n",
    "# print('item2 : ',item2)\n",
    "\n",
    "item3 = d3['k1'][0]['nest_key'][1][0]\n",
    "# print('item3 : ',item3)\n",
    "\n",
    "item4 = d4['k1'][2]['k2'][1]['tough'][2][0]\n",
    "# print('item4 : ',item4)\n",
    "\n",
    "obj_final = {\n",
    "    \"item1\":item1,\n",
    "    \"item2\":item2,\n",
    "    \"item3\":item3,\n",
    "    \"item4\":item4\n",
    "}\n",
    "\n",
    "usuario = {\n",
    "    \"nome\":\"aaaa\",\n",
    "    \"sobrenome\":\"bbbb\"\n",
    "}\n",
    "\n",
    "carteira = {\n",
    "    \"total\":10.5,\n",
    "    \"data\":\"01/01/2000\"\n",
    "}\n",
    "\n",
    "obj_final = {\n",
    "    \"usuario\":usuario,\n",
    "    \"carteira\":carteira\n",
    "}\n",
    "\n",
    "fracionario = obj_final['carteira']['total'] - int(obj_final['carteira']['total'])\n",
    "\n",
    "print(\"Valor carteira \", obj_final['carteira']['total'])\n",
    "print(\"Valor fracionario \",fracionario)"
   ]
  },
  {
   "cell_type": "markdown",
   "metadata": {},
   "source": [
    "Conjuntos\n",
    "O que é único em um conjunto?\n",
    "\n",
    "Use um conjunto para encontrar os valores exclusivos da lista abaixo:"
   ]
  },
  {
   "cell_type": "code",
   "execution_count": 97,
   "metadata": {},
   "outputs": [
    {
     "name": "stdout",
     "output_type": "stream",
     "text": [
      "{1, 2, 33, 4, 3, 11, 22}\n"
     ]
    }
   ],
   "source": [
    "lista = [1,2,2,33,4,4,11,22,3,3,2]\n",
    "\n",
    "conjunto = set(lista)\n",
    "\n",
    "print(conjunto)"
   ]
  },
  {
   "cell_type": "code",
   "execution_count": null,
   "metadata": {},
   "outputs": [],
   "source": [
    "# Responda antes de executar a célula\n",
    "\n",
    "a = 2 > 3\n",
    "print(a)\n",
    "\n",
    "b = 3 <= 2\n",
    "print(b)\n",
    "\n",
    "c = 3 == 2.0\n",
    "print(c)\n",
    "\n",
    "d = 3.0 == 3\n",
    "print(d)\n",
    "\n",
    "e = 4**0.5 != 2\n",
    "print(e)\n",
    "\n",
    "e = 4**0.5 == 2\n",
    "print(e)"
   ]
  },
  {
   "cell_type": "markdown",
   "metadata": {},
   "source": [
    "Pergunta final: qual é a saída booleana do bloco de código abaixo?"
   ]
  },
  {
   "cell_type": "code",
   "execution_count": 107,
   "metadata": {},
   "outputs": [
    {
     "name": "stdout",
     "output_type": "stream",
     "text": [
      "3\n",
      "4\n"
     ]
    },
    {
     "data": {
      "text/plain": [
       "False"
      ]
     },
     "execution_count": 107,
     "metadata": {},
     "output_type": "execute_result"
    }
   ],
   "source": [
    "# Duas listas aninhadas\n",
    "l_one = [1,2,[3,4]]\n",
    "l_two = [1,2,{'k1':4}]\n",
    "\n",
    "# Verdadeiro ou falso?\n",
    "item1 = l_one[2][0]\n",
    "item2 = l_two[2]['k1']\n",
    "print(item1)\n",
    "print(item2)\n",
    "\n",
    "item1 >= item2"
   ]
  }
 ],
 "metadata": {
  "kernelspec": {
   "display_name": "Python 3",
   "language": "python",
   "name": "python3"
  },
  "language_info": {
   "codemirror_mode": {
    "name": "ipython",
    "version": 3
   },
   "file_extension": ".py",
   "mimetype": "text/x-python",
   "name": "python",
   "nbconvert_exporter": "python",
   "pygments_lexer": "ipython3",
   "version": "3.11.4"
  },
  "orig_nbformat": 4
 },
 "nbformat": 4,
 "nbformat_minor": 2
}
