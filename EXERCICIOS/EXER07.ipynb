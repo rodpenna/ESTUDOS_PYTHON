{
 "cells": [
  {
   "cell_type": "markdown",
   "metadata": {},
   "source": [
    "7. Elabora um programa que solicita ao usuário a quantidade de números primos que ele quer que\n",
    "seja impresso. Após imprima na tela a quantidade de números primos escolhida. Ex. Entrada 4\n",
    "Saída 1 2 3 5"
   ]
  },
  {
   "cell_type": "code",
   "execution_count": null,
   "metadata": {},
   "outputs": [],
   "source": []
  }
 ],
 "metadata": {
  "language_info": {
   "name": "python"
  },
  "orig_nbformat": 4
 },
 "nbformat": 4,
 "nbformat_minor": 2
}
