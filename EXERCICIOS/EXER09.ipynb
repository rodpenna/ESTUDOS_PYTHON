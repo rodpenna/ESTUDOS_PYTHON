{
 "cells": [
  {
   "cell_type": "markdown",
   "metadata": {},
   "source": [
    "9. Elabore um programa que calcule uma equação do 2° Grau modelo ax2+bx+c. Solicite a entrada das\n",
    "variáveis a, b, c e calcule as raízes. Apresente no final do cálculo a equação composta pelas\n",
    "variáveis lidas e o resultado. Ex. Entrada a=1, b=-5, c=6. \n",
    "\n",
    "\n",
    "Saída 1x^2 -5x –6 =0 -> X1=3 X2=2"
   ]
  },
  {
   "cell_type": "code",
   "execution_count": null,
   "metadata": {},
   "outputs": [],
   "source": []
  }
 ],
 "metadata": {
  "language_info": {
   "name": "python"
  },
  "orig_nbformat": 4
 },
 "nbformat": 4,
 "nbformat_minor": 2
}
