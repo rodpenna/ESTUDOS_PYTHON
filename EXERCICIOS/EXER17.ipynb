{
 "cells": [
  {
   "cell_type": "markdown",
   "metadata": {},
   "source": [
    "11 - Escreva um programa que leia 10 números inteiros do teclado e armazena no\n",
    "vetor. Após isso, imprima os 10 inteiros em ordem inversa ao que foi digitado."
   ]
  },
  {
   "cell_type": "code",
   "execution_count": null,
   "metadata": {},
   "outputs": [],
   "source": []
  }
 ],
 "metadata": {
  "language_info": {
   "name": "python"
  },
  "orig_nbformat": 4
 },
 "nbformat": 4,
 "nbformat_minor": 2
}
