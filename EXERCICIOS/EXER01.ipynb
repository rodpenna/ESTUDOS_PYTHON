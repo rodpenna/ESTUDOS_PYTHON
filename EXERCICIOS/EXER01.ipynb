{
 "cells": [
  {
   "cell_type": "markdown",
   "metadata": {},
   "source": [
    "1. Leia dois valores e efetue a divisão do primeiro pelo segundo. O segundo valor não pode ser ZERO\n",
    "ou negativo, caso isso ocorra você deve informar ao usuário que o segundo número deve ser maior\n",
    "do que ZERO e solicitar um novo valor. Deverá imprimir o resultado. Ao final deve perguntar se\n",
    "deseja calcular outra divisão e caso sua resposta seja positiva limpe a tela e solicite novos valores "
   ]
  },
  {
   "cell_type": "code",
   "execution_count": null,
   "metadata": {},
   "outputs": [],
   "source": []
  }
 ],
 "metadata": {
  "language_info": {
   "name": "python"
  },
  "orig_nbformat": 4
 },
 "nbformat": 4,
 "nbformat_minor": 2
}
