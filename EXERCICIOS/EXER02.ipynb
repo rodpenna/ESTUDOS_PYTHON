{
 "cells": [
  {
   "cell_type": "markdown",
   "metadata": {},
   "source": [
    "2. Programar uma calculadora com as operações: soma, subtração, multiplicação e divisão. Deverá ter\n",
    "um menu com as opções de operação. Após a escolha da operação deverá permitir a inserção de\n",
    "dois valores e executar a conta. Deverá apresentar o resultado ao usuário e perguntar se ele deseja\n",
    "fazer novo cálculo ou se deseja encerrar o programa. Deverá permitir voltar ao menu caso a escolha\n",
    "seja fazer novo cálculo ou sair caso a escolha seja encerrar o programa."
   ]
  },
  {
   "cell_type": "code",
   "execution_count": null,
   "metadata": {},
   "outputs": [],
   "source": []
  }
 ],
 "metadata": {
  "language_info": {
   "name": "python"
  },
  "orig_nbformat": 4
 },
 "nbformat": 4,
 "nbformat_minor": 2
}
