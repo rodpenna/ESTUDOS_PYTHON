{
 "cells": [
  {
   "cell_type": "markdown",
   "metadata": {},
   "source": [
    "6. Elabore um programa em que o usuário informa dois números (n1 e n2). O primeiro número (n1)\n",
    "indica o início do laço de repetição e o segundo número (n2) o fim do laço de repetição. O\n",
    "programa deverá imprimir a soma de todos os números pares no intervalo entre n1 e n2."
   ]
  },
  {
   "cell_type": "code",
   "execution_count": null,
   "metadata": {},
   "outputs": [],
   "source": []
  }
 ],
 "metadata": {
  "language_info": {
   "name": "python"
  },
  "orig_nbformat": 4
 },
 "nbformat": 4,
 "nbformat_minor": 2
}
