{
 "cells": [
  {
   "cell_type": "markdown",
   "metadata": {},
   "source": [
    "8. Elabora um programa que peça ao usuário que entre com 10 números. Após solicite que o usuário\n",
    "escolha se quer que sejam impressos os números em ordem crescente ou decrescente e conforme\n",
    "a escolha do usuário e faça a impressão da série."
   ]
  },
  {
   "cell_type": "code",
   "execution_count": null,
   "metadata": {},
   "outputs": [],
   "source": []
  }
 ],
 "metadata": {
  "language_info": {
   "name": "python"
  },
  "orig_nbformat": 4
 },
 "nbformat": 4,
 "nbformat_minor": 2
}
