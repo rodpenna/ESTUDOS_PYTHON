{
 "cells": [
  {
   "cell_type": "markdown",
   "metadata": {},
   "source": [
    "10. Desenvolva um programa que some duas matrizes modelo Amxn + Amxn = Amxn. Solicite que o\n",
    "usuário escolha os números de entrada de ambas as matrizes e apresente como resultado as duas\n",
    "matrizes de entrada e a matriz resultado, pode ser uma em baixo da outra. Identifique cada matriz\n",
    "ao apresentar o resultado. "
   ]
  },
  {
   "cell_type": "code",
   "execution_count": null,
   "metadata": {},
   "outputs": [],
   "source": []
  }
 ],
 "metadata": {
  "language_info": {
   "name": "python"
  },
  "orig_nbformat": 4
 },
 "nbformat": 4,
 "nbformat_minor": 2
}
