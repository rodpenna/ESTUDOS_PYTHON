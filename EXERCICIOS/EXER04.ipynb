{
 "cells": [
  {
   "cell_type": "markdown",
   "metadata": {},
   "source": [
    "4. Faça um programa que mostre um menu contendo 2 opções: 1. Fibonacci 2. Fatorial. Ao escolher o\n",
    "numero 1 solicite que o usuário escolha a quantidade de números da série de Fibonacci ele quer\n",
    "imprimir e execute a função recursivamente. Ao escolher a opção 2 solicite ao usuário que escolha\n",
    "o número que deseja para o cálculo do Fatorial e execute a função recursivamente."
   ]
  },
  {
   "cell_type": "code",
   "execution_count": null,
   "metadata": {},
   "outputs": [],
   "source": []
  }
 ],
 "metadata": {
  "language_info": {
   "name": "python"
  },
  "orig_nbformat": 4
 },
 "nbformat": 4,
 "nbformat_minor": 2
}
